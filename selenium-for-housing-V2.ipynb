{
 "cells": [
  {
   "cell_type": "code",
   "execution_count": 13,
   "metadata": {
    "collapsed": true
   },
   "outputs": [],
   "source": [
    "import csv\n",
    "import os\n",
    "import sys\n",
    "import time\n",
    "import re\n",
    "\n",
    "from selenium import webdriver"
   ]
  },
  {
   "cell_type": "code",
   "execution_count": 2,
   "metadata": {
    "collapsed": true
   },
   "outputs": [],
   "source": [
    "driver = webdriver.Chrome()\n",
    "driver.get('https://evertrust.yungching.com.tw/region/%e5%8f%b0%e5%8c%97%e5%b8%82/%e4%b8%8d%e9%99%90/1?t=1,2,3,4&a=&c=&d=12#mainContent')\n",
    "url = []\n",
    "city_list = []\n",
    "for i in range(21):\n",
    "    cc=driver.find_element_by_xpath('//*[@id=\"wrap\"]/div[1]/div/div[2]/dl[1]/dd/ul/li['+str(i+1)+']/a')\n",
    "    url.append(cc.get_attribute('href'))\n",
    "    city_list.append(cc.text)\n",
    "driver.close()\n",
    "\n",
    "city_list=city_list[7]\n",
    "url=url[7]"
   ]
  },
  {
   "cell_type": "code",
   "execution_count": 10,
   "metadata": {},
   "outputs": [
    {
     "data": {
      "text/plain": [
       "'台南'"
      ]
     },
     "execution_count": 10,
     "metadata": {},
     "output_type": "execute_result"
    }
   ],
   "source": []
  },
  {
   "cell_type": "code",
   "execution_count": 6,
   "metadata": {},
   "outputs": [
    {
     "ename": "WebDriverException",
     "evalue": "Message: unknown error: unhandled inspector error: {\"code\":-32000,\"message\":\"Cannot navigate to invalid URL\"}\n  (Session info: chrome=79.0.3945.88)\n  (Driver info: chromedriver=2.38.552522 (437e6fbedfa8762dec75e2c5b3ddb86763dc9dcb),platform=Windows NT 10.0.18362 x86_64)\n",
     "output_type": "error",
     "traceback": [
      "\u001b[1;31m---------------------------------------------------------------------------\u001b[0m",
      "\u001b[1;31mWebDriverException\u001b[0m                        Traceback (most recent call last)",
      "\u001b[1;32m<ipython-input-6-1f602f04efb3>\u001b[0m in \u001b[0;36m<module>\u001b[1;34m()\u001b[0m\n\u001b[0;32m     12\u001b[0m     \u001b[0mcity_name\u001b[0m \u001b[1;33m=\u001b[0m \u001b[0mcity\u001b[0m\u001b[1;33m\u001b[0m\u001b[0m\n\u001b[0;32m     13\u001b[0m     \u001b[0mdriver\u001b[0m \u001b[1;33m=\u001b[0m \u001b[0mwebdriver\u001b[0m\u001b[1;33m.\u001b[0m\u001b[0mChrome\u001b[0m\u001b[1;33m(\u001b[0m\u001b[1;33m)\u001b[0m\u001b[1;33m\u001b[0m\u001b[0m\n\u001b[1;32m---> 14\u001b[1;33m     \u001b[0mdriver\u001b[0m\u001b[1;33m.\u001b[0m\u001b[0mget\u001b[0m\u001b[1;33m(\u001b[0m\u001b[0murl\u001b[0m\u001b[1;33m[\u001b[0m\u001b[0mnum\u001b[0m\u001b[1;33m]\u001b[0m\u001b[1;33m)\u001b[0m\u001b[1;33m\u001b[0m\u001b[0m\n\u001b[0m\u001b[0;32m     15\u001b[0m \u001b[1;33m\u001b[0m\u001b[0m\n\u001b[0;32m     16\u001b[0m     \u001b[0mtime\u001b[0m\u001b[1;33m.\u001b[0m\u001b[0msleep\u001b[0m\u001b[1;33m(\u001b[0m\u001b[1;36m3\u001b[0m\u001b[1;33m)\u001b[0m\u001b[1;33m\u001b[0m\u001b[0m\n",
      "\u001b[1;32mE:\\python\\anaconda3\\lib\\site-packages\\selenium\\webdriver\\remote\\webdriver.py\u001b[0m in \u001b[0;36mget\u001b[1;34m(self, url)\u001b[0m\n\u001b[0;32m    331\u001b[0m         \u001b[0mLoads\u001b[0m \u001b[0ma\u001b[0m \u001b[0mweb\u001b[0m \u001b[0mpage\u001b[0m \u001b[1;32min\u001b[0m \u001b[0mthe\u001b[0m \u001b[0mcurrent\u001b[0m \u001b[0mbrowser\u001b[0m \u001b[0msession\u001b[0m\u001b[1;33m.\u001b[0m\u001b[1;33m\u001b[0m\u001b[0m\n\u001b[0;32m    332\u001b[0m         \"\"\"\n\u001b[1;32m--> 333\u001b[1;33m         \u001b[0mself\u001b[0m\u001b[1;33m.\u001b[0m\u001b[0mexecute\u001b[0m\u001b[1;33m(\u001b[0m\u001b[0mCommand\u001b[0m\u001b[1;33m.\u001b[0m\u001b[0mGET\u001b[0m\u001b[1;33m,\u001b[0m \u001b[1;33m{\u001b[0m\u001b[1;34m'url'\u001b[0m\u001b[1;33m:\u001b[0m \u001b[0murl\u001b[0m\u001b[1;33m}\u001b[0m\u001b[1;33m)\u001b[0m\u001b[1;33m\u001b[0m\u001b[0m\n\u001b[0m\u001b[0;32m    334\u001b[0m \u001b[1;33m\u001b[0m\u001b[0m\n\u001b[0;32m    335\u001b[0m     \u001b[1;33m@\u001b[0m\u001b[0mproperty\u001b[0m\u001b[1;33m\u001b[0m\u001b[0m\n",
      "\u001b[1;32mE:\\python\\anaconda3\\lib\\site-packages\\selenium\\webdriver\\remote\\webdriver.py\u001b[0m in \u001b[0;36mexecute\u001b[1;34m(self, driver_command, params)\u001b[0m\n\u001b[0;32m    319\u001b[0m         \u001b[0mresponse\u001b[0m \u001b[1;33m=\u001b[0m \u001b[0mself\u001b[0m\u001b[1;33m.\u001b[0m\u001b[0mcommand_executor\u001b[0m\u001b[1;33m.\u001b[0m\u001b[0mexecute\u001b[0m\u001b[1;33m(\u001b[0m\u001b[0mdriver_command\u001b[0m\u001b[1;33m,\u001b[0m \u001b[0mparams\u001b[0m\u001b[1;33m)\u001b[0m\u001b[1;33m\u001b[0m\u001b[0m\n\u001b[0;32m    320\u001b[0m         \u001b[1;32mif\u001b[0m \u001b[0mresponse\u001b[0m\u001b[1;33m:\u001b[0m\u001b[1;33m\u001b[0m\u001b[0m\n\u001b[1;32m--> 321\u001b[1;33m             \u001b[0mself\u001b[0m\u001b[1;33m.\u001b[0m\u001b[0merror_handler\u001b[0m\u001b[1;33m.\u001b[0m\u001b[0mcheck_response\u001b[0m\u001b[1;33m(\u001b[0m\u001b[0mresponse\u001b[0m\u001b[1;33m)\u001b[0m\u001b[1;33m\u001b[0m\u001b[0m\n\u001b[0m\u001b[0;32m    322\u001b[0m             response['value'] = self._unwrap_value(\n\u001b[0;32m    323\u001b[0m                 response.get('value', None))\n",
      "\u001b[1;32mE:\\python\\anaconda3\\lib\\site-packages\\selenium\\webdriver\\remote\\errorhandler.py\u001b[0m in \u001b[0;36mcheck_response\u001b[1;34m(self, response)\u001b[0m\n\u001b[0;32m    240\u001b[0m                 \u001b[0malert_text\u001b[0m \u001b[1;33m=\u001b[0m \u001b[0mvalue\u001b[0m\u001b[1;33m[\u001b[0m\u001b[1;34m'alert'\u001b[0m\u001b[1;33m]\u001b[0m\u001b[1;33m.\u001b[0m\u001b[0mget\u001b[0m\u001b[1;33m(\u001b[0m\u001b[1;34m'text'\u001b[0m\u001b[1;33m)\u001b[0m\u001b[1;33m\u001b[0m\u001b[0m\n\u001b[0;32m    241\u001b[0m             \u001b[1;32mraise\u001b[0m \u001b[0mexception_class\u001b[0m\u001b[1;33m(\u001b[0m\u001b[0mmessage\u001b[0m\u001b[1;33m,\u001b[0m \u001b[0mscreen\u001b[0m\u001b[1;33m,\u001b[0m \u001b[0mstacktrace\u001b[0m\u001b[1;33m,\u001b[0m \u001b[0malert_text\u001b[0m\u001b[1;33m)\u001b[0m\u001b[1;33m\u001b[0m\u001b[0m\n\u001b[1;32m--> 242\u001b[1;33m         \u001b[1;32mraise\u001b[0m \u001b[0mexception_class\u001b[0m\u001b[1;33m(\u001b[0m\u001b[0mmessage\u001b[0m\u001b[1;33m,\u001b[0m \u001b[0mscreen\u001b[0m\u001b[1;33m,\u001b[0m \u001b[0mstacktrace\u001b[0m\u001b[1;33m)\u001b[0m\u001b[1;33m\u001b[0m\u001b[0m\n\u001b[0m\u001b[0;32m    243\u001b[0m \u001b[1;33m\u001b[0m\u001b[0m\n\u001b[0;32m    244\u001b[0m     \u001b[1;32mdef\u001b[0m \u001b[0m_value_or_default\u001b[0m\u001b[1;33m(\u001b[0m\u001b[0mself\u001b[0m\u001b[1;33m,\u001b[0m \u001b[0mobj\u001b[0m\u001b[1;33m,\u001b[0m \u001b[0mkey\u001b[0m\u001b[1;33m,\u001b[0m \u001b[0mdefault\u001b[0m\u001b[1;33m)\u001b[0m\u001b[1;33m:\u001b[0m\u001b[1;33m\u001b[0m\u001b[0m\n",
      "\u001b[1;31mWebDriverException\u001b[0m: Message: unknown error: unhandled inspector error: {\"code\":-32000,\"message\":\"Cannot navigate to invalid URL\"}\n  (Session info: chrome=79.0.3945.88)\n  (Driver info: chromedriver=2.38.552522 (437e6fbedfa8762dec75e2c5b3ddb86763dc9dcb),platform=Windows NT 10.0.18362 x86_64)\n"
     ]
    }
   ],
   "source": [
    "# driver = webdriver.Chrome()\n",
    "# driver.get('https://evertrust.yungching.com.tw/region/%e5%8f%b0%e5%8c%97%e5%b8%82/%e4%b8%8d%e9%99%90/1?t=1,2,3,4&a=&c=&d=12#mainContent')\n",
    "# url = []\n",
    "# city_list = []\n",
    "# for i in range(21):\n",
    "#     cc=driver.find_element_by_xpath('//*[@id=\"wrap\"]/div[1]/div/div[2]/dl[1]/dd/ul/li['+str(i+1)+']/a')\n",
    "#     url.append(cc.get_attribute('href'))\n",
    "#     city_list.append(cc.text)\n",
    "# driver.close()\n",
    "\n",
    "for num,city in enumerate(city_list):\n",
    "    city_name = city\n",
    "    driver = webdriver.Chrome()\n",
    "    driver.get(url[num])\n",
    "\n",
    "    time.sleep(3)\n",
    "    sys.stderr.write(\"Write data to csv file \"+city_name+\"...\\n\")\n",
    "\n",
    "    with open(\"C:\\\\Users\\諭陞陳\\OneDrive\\桌面\\python\\housing_crawler\\data\\\\Housing_\"+city_name+\".csv\", 'w', newline='') as csvfile:\n",
    "        csvwriter = csv.writer(csvfile)\n",
    "        csvwriter.writerow([\"deal\", \"status\", \"address\",\"deal_price\",\"floor_space\",\"single_price\",\"land_space\",\"floor\",\"age\",\"car\"])\n",
    "\n",
    "        items = driver.find_elements_by_css_selector(\"#dealtable tbody tr\")\n",
    "        for item in items:\n",
    "            tds = item.find_elements_by_css_selector(\"td\")\n",
    "            csvwriter.writerow([tds[0].text, tds[1].text, tds[2].text.encode(sys.stdin.encoding, \"replace\").decode(sys.stdin.encoding), tds[3].text, tds[4].text, tds[5].text, tds[6].text, tds[7].text, tds[8].text, tds[9].text])\n",
    "\n",
    "        time.sleep(1.5)\n",
    "        nextBtn = driver.find_element_by_xpath('//*[@id=\"mainContent\"]/div[4]/ul/li[2]/a')\n",
    "        nextBtn.click()\n",
    "\n",
    "        page_list = driver.find_element_by_class_name('pagination')\n",
    "        page_set = set(re.sub(\"[^ 0-9]\",'',page_list.text).split(' '))\n",
    "        page_set.remove('')\n",
    "    #     print(max([int(x) for x in page_set]))\n",
    "\n",
    "        if max([int(x) for x in page_set]) == 10:\n",
    "            \n",
    "            time.sleep(2.5)\n",
    "            lastBtn = driver.find_element_by_xpath('//*[@id=\"mainContent\"]/div[4]/ul/li[14]/a')\n",
    "            lastBtn.click()\n",
    "\n",
    "            page_list2 = driver.find_element_by_class_name('pagination')\n",
    "            page_set2 = set(re.sub(\"[^ 0-9]\",'',page_list2.text).split(' '))\n",
    "            page_set2.remove('')\n",
    "            end_page = max([int(x) for x in page_set2])\n",
    "\n",
    "            for page in range(1,end_page):\n",
    "                items = driver.find_elements_by_css_selector(\"#dealtable tbody tr\")\n",
    "                for item in items:\n",
    "                    tds = item.find_elements_by_css_selector(\"td\")\n",
    "                    csvwriter.writerow([tds[0].text, tds[1].text, tds[2].text.encode(sys.stdin.encoding, \"replace\").decode(sys.stdin.encoding), tds[3].text, tds[4].text, tds[5].text, tds[6].text, tds[7].text, tds[8].text, tds[9].text])\n",
    "                time.sleep(1)\n",
    "\n",
    "                \n",
    "                try:\n",
    "                    nextBtn = driver.find_element_by_xpath('//*[@id=\"mainContent\"]/div[4]/ul/li[2]/a')\n",
    "                    nextBtn.click()\n",
    "                except:\n",
    "                    print(end_page-page)\n",
    "                    driver.forward()\n",
    "                    time.sleep(1)\n",
    "                    nextBtn = driver.find_element_by_xpath('//*[@id=\"mainContent\"]/div[4]/ul/li[2]/a')\n",
    "                    nextBtn.click()\n",
    "#                 if page%10 == 0:\n",
    "#                     print(page)\n",
    "        else:\n",
    "            end_page = max([int(x) for x in page_set])\n",
    "            point = 13-(10-end_page%10)\n",
    "            for page in range(1,end_page):\n",
    "                items = driver.find_elements_by_css_selector(\"#dealtable tbody tr\")\n",
    "                for item in items:\n",
    "                    tds = item.find_elements_by_css_selector(\"td\")\n",
    "                    csvwriter.writerow([tds[0].text, tds[1].text, tds[2].text.encode(sys.stdin.encoding, \"replace\").decode(sys.stdin.encoding), tds[3].text, tds[4].text, tds[5].text, tds[6].text, tds[7].text, tds[8].text, tds[9].text])\n",
    "                time.sleep(1.5)\n",
    "                try:\n",
    "                    nextBtn = driver.find_element_by_xpath('//*[@id=\"mainContent\"]/div[4]/ul/li['+str(point)+']/a')      \n",
    "                    nextBtn.click()\n",
    "                except:\n",
    "                    break\n",
    "    driver.close()\n",
    "    csvfile.close()"
   ]
  },
  {
   "cell_type": "code",
   "execution_count": 11,
   "metadata": {},
   "outputs": [
    {
     "ename": "NoSuchWindowException",
     "evalue": "Message: no such window: target window already closed\nfrom unknown error: web view not found\n  (Session info: chrome=79.0.3945.88)\n  (Driver info: chromedriver=2.38.552522 (437e6fbedfa8762dec75e2c5b3ddb86763dc9dcb),platform=Windows NT 10.0.18362 x86_64)\n",
     "output_type": "error",
     "traceback": [
      "\u001b[1;31m---------------------------------------------------------------------------\u001b[0m",
      "\u001b[1;31mNoSuchWindowException\u001b[0m                     Traceback (most recent call last)",
      "\u001b[1;32m<ipython-input-11-30b79b35b84d>\u001b[0m in \u001b[0;36m<module>\u001b[1;34m()\u001b[0m\n\u001b[1;32m----> 1\u001b[1;33m \u001b[0mdriver\u001b[0m\u001b[1;33m.\u001b[0m\u001b[0mclose\u001b[0m\u001b[1;33m(\u001b[0m\u001b[1;33m)\u001b[0m\u001b[1;33m\u001b[0m\u001b[0m\n\u001b[0m",
      "\u001b[1;32mE:\\python\\anaconda3\\lib\\site-packages\\selenium\\webdriver\\remote\\webdriver.py\u001b[0m in \u001b[0;36mclose\u001b[1;34m(self)\u001b[0m\n\u001b[0;32m    686\u001b[0m             \u001b[0mdriver\u001b[0m\u001b[1;33m.\u001b[0m\u001b[0mclose\u001b[0m\u001b[1;33m(\u001b[0m\u001b[1;33m)\u001b[0m\u001b[1;33m\u001b[0m\u001b[0m\n\u001b[0;32m    687\u001b[0m         \"\"\"\n\u001b[1;32m--> 688\u001b[1;33m         \u001b[0mself\u001b[0m\u001b[1;33m.\u001b[0m\u001b[0mexecute\u001b[0m\u001b[1;33m(\u001b[0m\u001b[0mCommand\u001b[0m\u001b[1;33m.\u001b[0m\u001b[0mCLOSE\u001b[0m\u001b[1;33m)\u001b[0m\u001b[1;33m\u001b[0m\u001b[0m\n\u001b[0m\u001b[0;32m    689\u001b[0m \u001b[1;33m\u001b[0m\u001b[0m\n\u001b[0;32m    690\u001b[0m     \u001b[1;32mdef\u001b[0m \u001b[0mquit\u001b[0m\u001b[1;33m(\u001b[0m\u001b[0mself\u001b[0m\u001b[1;33m)\u001b[0m\u001b[1;33m:\u001b[0m\u001b[1;33m\u001b[0m\u001b[0m\n",
      "\u001b[1;32mE:\\python\\anaconda3\\lib\\site-packages\\selenium\\webdriver\\remote\\webdriver.py\u001b[0m in \u001b[0;36mexecute\u001b[1;34m(self, driver_command, params)\u001b[0m\n\u001b[0;32m    319\u001b[0m         \u001b[0mresponse\u001b[0m \u001b[1;33m=\u001b[0m \u001b[0mself\u001b[0m\u001b[1;33m.\u001b[0m\u001b[0mcommand_executor\u001b[0m\u001b[1;33m.\u001b[0m\u001b[0mexecute\u001b[0m\u001b[1;33m(\u001b[0m\u001b[0mdriver_command\u001b[0m\u001b[1;33m,\u001b[0m \u001b[0mparams\u001b[0m\u001b[1;33m)\u001b[0m\u001b[1;33m\u001b[0m\u001b[0m\n\u001b[0;32m    320\u001b[0m         \u001b[1;32mif\u001b[0m \u001b[0mresponse\u001b[0m\u001b[1;33m:\u001b[0m\u001b[1;33m\u001b[0m\u001b[0m\n\u001b[1;32m--> 321\u001b[1;33m             \u001b[0mself\u001b[0m\u001b[1;33m.\u001b[0m\u001b[0merror_handler\u001b[0m\u001b[1;33m.\u001b[0m\u001b[0mcheck_response\u001b[0m\u001b[1;33m(\u001b[0m\u001b[0mresponse\u001b[0m\u001b[1;33m)\u001b[0m\u001b[1;33m\u001b[0m\u001b[0m\n\u001b[0m\u001b[0;32m    322\u001b[0m             response['value'] = self._unwrap_value(\n\u001b[0;32m    323\u001b[0m                 response.get('value', None))\n",
      "\u001b[1;32mE:\\python\\anaconda3\\lib\\site-packages\\selenium\\webdriver\\remote\\errorhandler.py\u001b[0m in \u001b[0;36mcheck_response\u001b[1;34m(self, response)\u001b[0m\n\u001b[0;32m    240\u001b[0m                 \u001b[0malert_text\u001b[0m \u001b[1;33m=\u001b[0m \u001b[0mvalue\u001b[0m\u001b[1;33m[\u001b[0m\u001b[1;34m'alert'\u001b[0m\u001b[1;33m]\u001b[0m\u001b[1;33m.\u001b[0m\u001b[0mget\u001b[0m\u001b[1;33m(\u001b[0m\u001b[1;34m'text'\u001b[0m\u001b[1;33m)\u001b[0m\u001b[1;33m\u001b[0m\u001b[0m\n\u001b[0;32m    241\u001b[0m             \u001b[1;32mraise\u001b[0m \u001b[0mexception_class\u001b[0m\u001b[1;33m(\u001b[0m\u001b[0mmessage\u001b[0m\u001b[1;33m,\u001b[0m \u001b[0mscreen\u001b[0m\u001b[1;33m,\u001b[0m \u001b[0mstacktrace\u001b[0m\u001b[1;33m,\u001b[0m \u001b[0malert_text\u001b[0m\u001b[1;33m)\u001b[0m\u001b[1;33m\u001b[0m\u001b[0m\n\u001b[1;32m--> 242\u001b[1;33m         \u001b[1;32mraise\u001b[0m \u001b[0mexception_class\u001b[0m\u001b[1;33m(\u001b[0m\u001b[0mmessage\u001b[0m\u001b[1;33m,\u001b[0m \u001b[0mscreen\u001b[0m\u001b[1;33m,\u001b[0m \u001b[0mstacktrace\u001b[0m\u001b[1;33m)\u001b[0m\u001b[1;33m\u001b[0m\u001b[0m\n\u001b[0m\u001b[0;32m    243\u001b[0m \u001b[1;33m\u001b[0m\u001b[0m\n\u001b[0;32m    244\u001b[0m     \u001b[1;32mdef\u001b[0m \u001b[0m_value_or_default\u001b[0m\u001b[1;33m(\u001b[0m\u001b[0mself\u001b[0m\u001b[1;33m,\u001b[0m \u001b[0mobj\u001b[0m\u001b[1;33m,\u001b[0m \u001b[0mkey\u001b[0m\u001b[1;33m,\u001b[0m \u001b[0mdefault\u001b[0m\u001b[1;33m)\u001b[0m\u001b[1;33m:\u001b[0m\u001b[1;33m\u001b[0m\u001b[0m\n",
      "\u001b[1;31mNoSuchWindowException\u001b[0m: Message: no such window: target window already closed\nfrom unknown error: web view not found\n  (Session info: chrome=79.0.3945.88)\n  (Driver info: chromedriver=2.38.552522 (437e6fbedfa8762dec75e2c5b3ddb86763dc9dcb),platform=Windows NT 10.0.18362 x86_64)\n"
     ]
    }
   ],
   "source": [
    "driver.close()"
   ]
  },
  {
   "cell_type": "code",
   "execution_count": 10,
   "metadata": {
    "collapsed": true
   },
   "outputs": [],
   "source": [
    "nextBtn = driver.find_element_by_xpath('//*[@id=\"mainContent\"]/div[4]/ul/li[2]/a')\n",
    "nextBtn.click()"
   ]
  },
  {
   "cell_type": "markdown",
   "metadata": {},
   "source": [
    "## Single Test "
   ]
  },
  {
   "cell_type": "code",
   "execution_count": 14,
   "metadata": {},
   "outputs": [
    {
     "name": "stderr",
     "output_type": "stream",
     "text": [
      "Write data to csv file...\n"
     ]
    },
    {
     "name": "stdout",
     "output_type": "stream",
     "text": [
      "10\n",
      "20\n",
      "30\n",
      "40\n",
      "50\n",
      "60\n",
      "70\n",
      "80\n",
      "90\n",
      "100\n",
      "110\n",
      "120\n",
      "130\n",
      "140\n",
      "150\n",
      "160\n",
      "170\n",
      "180\n",
      "190\n",
      "200\n",
      "210\n",
      "220\n",
      "230\n",
      "240\n",
      "250\n",
      "260\n",
      "270\n",
      "280\n",
      "290\n",
      "300\n",
      "310\n",
      "320\n",
      "330\n",
      "340\n",
      "350\n",
      "360\n",
      "370\n",
      "380\n",
      "390\n",
      "400\n",
      "410\n",
      "420\n",
      "430\n",
      "440\n",
      "450\n",
      "460\n",
      "470\n",
      "480\n",
      "490\n",
      "500\n",
      "510\n",
      "520\n",
      "530\n",
      "540\n",
      "550\n"
     ]
    }
   ],
   "source": [
    "city_name = city_list\n",
    "\n",
    "driver = webdriver.Chrome()\n",
    "driver.get(url)\n",
    "\n",
    "time.sleep(3)\n",
    "sys.stderr.write(\"Write data to csv file...\\n\")\n",
    "\n",
    "with open(\"C:\\\\Users\\諭陞陳\\OneDrive\\桌面\\python\\housing_crawler\\data\\\\Housing_\"+city_name+\".csv\", 'w', newline='') as csvfile:\n",
    "    csvwriter = csv.writer(csvfile)\n",
    "    csvwriter.writerow([\"deal\", \"status\", \"address\",\"deal_price\",\"floor_space\",\"single_price\",\"land_space\",\"floor\",\"age\",\"car\"])\n",
    "    \n",
    "    items = driver.find_elements_by_css_selector(\"#dealtable tbody tr\")\n",
    "    for item in items:\n",
    "        tds = item.find_elements_by_css_selector(\"td\")\n",
    "        csvwriter.writerow([tds[0].text, tds[1].text, tds[2].text.encode(sys.stdin.encoding, \"replace\").decode(sys.stdin.encoding), tds[3].text, tds[4].text, tds[5].text, tds[6].text, tds[7].text, tds[8].text, tds[9].text])\n",
    "    \n",
    "    time.sleep(1.5)\n",
    "    nextBtn = driver.find_element_by_xpath('//*[@id=\"mainContent\"]/div[4]/ul/li[2]/a')\n",
    "    nextBtn.click()\n",
    "    \n",
    "    page_list = driver.find_element_by_class_name('pagination')\n",
    "    page_set = set(re.sub(\"[^ 0-9]\",'',page_list.text).split(' '))\n",
    "    page_set.remove('')\n",
    "#     print(max([int(x) for x in page_set]))\n",
    "    \n",
    "    if max([int(x) for x in page_set]) == 10:\n",
    "        \n",
    "        time.sleep(1.5)     \n",
    "        lastBtn = driver.find_element_by_xpath('//*[@id=\"mainContent\"]/div[4]/ul/li[14]/a')\n",
    "        lastBtn.click()\n",
    "        \n",
    "        time.sleep(1.5)\n",
    "        page_list2 = driver.find_element_by_class_name('pagination')\n",
    "        page_set2 = set(re.sub(\"[^ 0-9]\",'',page_list2.text).split(' '))\n",
    "        page_set2.remove('')\n",
    "        end_page = max([int(x) for x in page_set2])\n",
    "        \n",
    "        for page in range(1,end_page):\n",
    "            items = driver.find_elements_by_css_selector(\"#dealtable tbody tr\")\n",
    "            for item in items:\n",
    "                tds = item.find_elements_by_css_selector(\"td\")\n",
    "                csvwriter.writerow([tds[0].text, tds[1].text, tds[2].text.encode(sys.stdin.encoding, \"replace\").decode(sys.stdin.encoding), tds[3].text, tds[4].text, tds[5].text, tds[6].text, tds[7].text, tds[8].text, tds[9].text])\n",
    "            time.sleep(1.5)\n",
    "\n",
    "            nextBtn = driver.find_element_by_xpath('//*[@id=\"mainContent\"]/div[4]/ul/li[2]/a')\n",
    "            try:\n",
    "                nextBtn.click()\n",
    "            except:\n",
    "                time.sleep(1.5)\n",
    "                nextBtn.click()\n",
    "            if page%10 == 0:\n",
    "                print(page)\n",
    "    else:\n",
    "        end_page = max([int(x) for x in page_set])\n",
    "        point = 13-(10-end_page%10)\n",
    "        for page in range(1,end_page):\n",
    "            items = driver.find_elements_by_css_selector(\"#dealtable tbody tr\")\n",
    "            for item in items:\n",
    "                tds = item.find_elements_by_css_selector(\"td\")\n",
    "                csvwriter.writerow([tds[0].text, tds[1].text, tds[2].text.encode(sys.stdin.encoding, \"replace\").decode(sys.stdin.encoding), tds[3].text, tds[4].text, tds[5].text, tds[6].text, tds[7].text, tds[8].text, tds[9].text])\n",
    "            time.sleep(1.5)\n",
    "            try:\n",
    "                nextBtn = driver.find_element_by_xpath('//*[@id=\"mainContent\"]/div[4]/ul/li['+str(point)+']/a')      \n",
    "                nextBtn.click()\n",
    "            except:\n",
    "                break\n",
    "driver.close()\n",
    "csvfile.close()"
   ]
  },
  {
   "cell_type": "code",
   "execution_count": 46,
   "metadata": {
    "collapsed": true
   },
   "outputs": [],
   "source": [
    "a = driver.find_element_by_class_name('pagination')"
   ]
  }
 ],
 "metadata": {
  "kernelspec": {
   "display_name": "Python 3",
   "language": "python",
   "name": "python3"
  },
  "language_info": {
   "codemirror_mode": {
    "name": "ipython",
    "version": 3
   },
   "file_extension": ".py",
   "mimetype": "text/x-python",
   "name": "python",
   "nbconvert_exporter": "python",
   "pygments_lexer": "ipython3",
   "version": "3.6.3"
  }
 },
 "nbformat": 4,
 "nbformat_minor": 2
}
